{
 "cells": [
  {
   "cell_type": "markdown",
   "metadata": {},
   "source": [
    "# Notebook Lista de Exercícios 06\n",
    "Vamos continuar a implementação de nossas bibliotecas de machine learning na forma mais simples possível usando no Python e o NumPy.\n"
   ]
  },
  {
   "cell_type": "markdown",
   "metadata": {},
   "source": [
    "**1. Crie os seguintes arquivos com extensão .py e implemente os métodos definidos para cada um deles:**\n",
    "* **dist_metrics.py** - medidas de distância (ver slides correspondentes). Implemente as medidas de distância a seguir:\n",
    "  * minkowski_distance(X, row, p)\n",
    "  * euclidean_distance(X, row). Dica: usar minkowski_distance com p=2.\n",
    "  * manhattan_distance(X, row) Dica: usar minkowski_distance com p=1.\n",
    "  * chebyshev_distance(X, row)\n",
    "  * onde X é uma matriz e row é uma linha para calculo da distância entre X e esta linha (row).\n",
    "  * Veja exemplo de implementação da distância euclidiana neste jupyter notebook.\n",
    "  ![dist_metrics.png](dist_metrics.png)\n",
    "* **knn.py** - implementações do knn para classificação e regressão.\n",
    "  1. Você pode adaptar o exemplo do seguinte link para tomar como base inicial para a sua implementação da regressão logística, que deve ter os métodos fit e predict. Explicação mais detalhada nos slides. No fit você faz o que for possível para melhorar o desempenho de forma genérica antes do predict. Exemplo: não é o caso nesta questão, mas no fit pode-se, por exemplo, contruir uma kd-tree para melhorar o desempenho do kNN na hora do predict. O objetivo do fit é reduzir ao máximo o trabalho do predict.  \n",
    "  2. Implemente as classes de acordo com as seguintes assinaturas:\n",
    "    * KNNClassifier(k=5, metric='minkowski', p=2)\n",
    "      * Para detalhes sobre os parâmetros veja esta documentação do sklearn.\n",
    "    * KNNRegressor(k=5, metric='minkowski', p=2)\n",
    "      * Para detalhes sobre os parâmetros veja esta documentação do sklearn."
   ]
  },
  {
   "cell_type": "code",
   "execution_count": null,
   "metadata": {},
   "outputs": [],
   "source": []
  },
  {
   "cell_type": "code",
   "execution_count": null,
   "metadata": {},
   "outputs": [],
   "source": []
  },
  {
   "cell_type": "markdown",
   "metadata": {},
   "source": [
    "**2. Agora avalie e compare sua implementação de KNNClassifier usando a distância euclidiana e a distância manhattan. Compare seus resultados com a implementação do scikit learn somente para a distância euclidiana. **\n",
    "* Use o dataset winequality-white.csv em sua avaliação. Este dataset pode ser usado para classificação ou regressão. Nesta questão vamos usá-lo para classificação, onde a última coluna é classe.\n",
    "* Use o Stratified KFold Cross-Validation do Scikit Learn com k=3. Há um exemplo semelhante de uso neste jupyter notebook. "
   ]
  },
  {
   "cell_type": "code",
   "execution_count": null,
   "metadata": {},
   "outputs": [],
   "source": []
  },
  {
   "cell_type": "code",
   "execution_count": null,
   "metadata": {},
   "outputs": [],
   "source": []
  },
  {
   "cell_type": "markdown",
   "metadata": {},
   "source": [
    "**3. Agora avalie e compare sua implementação de KNNRegressor usando a distância euclidiana e a distância manhattan. Compare seus resultados com a implementação do scikit learn somente para a distância euclidiana.**\n",
    "* Use o dataset winequality-white.csv em sua avaliação. Este dataset pode ser usado para classificação ou regressão. Nesta questão vamos usá-lo para classificação, onde a última coluna é um valor que indica a qualidade do vinho.\n",
    "* Use o KFold Cross-Validation do Scikit Learn com k=5. Há um exemplo semelhante de uso neste jupyter notebook. Você deve usar o KFold e não o StratifiedKFold usado no exemplo."
   ]
  },
  {
   "cell_type": "code",
   "execution_count": null,
   "metadata": {},
   "outputs": [],
   "source": []
  },
  {
   "cell_type": "code",
   "execution_count": null,
   "metadata": {},
   "outputs": [],
   "source": []
  }
 ],
 "metadata": {
  "kernelspec": {
   "display_name": "Python 3",
   "language": "python",
   "name": "python3"
  },
  "language_info": {
   "codemirror_mode": {
    "name": "ipython",
    "version": 3
   },
   "file_extension": ".py",
   "mimetype": "text/x-python",
   "name": "python",
   "nbconvert_exporter": "python",
   "pygments_lexer": "ipython3",
   "version": "3.6.4"
  }
 },
 "nbformat": 4,
 "nbformat_minor": 2
}
