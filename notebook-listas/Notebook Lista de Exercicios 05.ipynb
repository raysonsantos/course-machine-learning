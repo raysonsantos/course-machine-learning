{
 "cells": [
  {
   "cell_type": "markdown",
   "metadata": {},
   "source": [
    "# Notebook Lista de Exercícios 05\n",
    "Vamos continuar a implementação de nossas bibliotecas de machine learning na forma mais simples possível usando no Python e o NumPy."
   ]
  },
  {
   "cell_type": "markdown",
   "metadata": {},
   "source": [
    "**1. Crie os seguintes arquivos com extensão .py e implemente os métodos definidos para cada um deles:**\n",
    "* **metrics.py** - métricas de classificação (ver slides e jupyter notebooks correspondentes). As métricas devem funcionar para classificação binária ou mesmo para múltiplas classes.\n",
    "  * accuracy\n",
    "  * precision\n",
    "  * recall\n",
    "  * f1_measure\n",
    "* linear_model.py\n",
    "  * Implemente a classe LogisticRegression para realizar classificação binária.\n",
    "    * Você pode adaptar o exemplo do seguinte link para tomar como base inicial para a sua implementação da regressão logística, que deve ter os métodos fit e predict. Explicação mais detalhada neste outro link."
   ]
  },
  {
   "cell_type": "code",
   "execution_count": null,
   "metadata": {},
   "outputs": [],
   "source": []
  },
  {
   "cell_type": "code",
   "execution_count": null,
   "metadata": {},
   "outputs": [],
   "source": []
  },
  {
   "cell_type": "markdown",
   "metadata": {},
   "source": [
    "**2. Agora avalie e compare sua implementação de LogisticRegression com a implementação do scikit learn.**\n",
    "* Use o dataset pima-indians-diabetes.csv em sua avaliação.\n",
    "* Divida o dataset em 70% para treino e 30% para teste.\n",
    "  * Estratifique seus dados, ou seja, garanta que o mesmo percentual de 0s e 1s do dataset completo, ocorra também nos dados de treino e de teste.\n",
    "    * Exemplo: se no dataset há 40% de 0s e 60% de 1s, esses mesmos percentuais de 0s e 1s devem aparecer nos conjuntos de treino e teste.\n",
    "    * Crie a função a seguir em **resample.py:**\n",
    "      * **split_stratified_train_test(y, perc_train, seed)**\n",
    "        * y - labels de cada observação contendo a classe como valor.\n",
    "        * perc_train - percentual dos dados usados para treino.\n",
    "        * seed - semente para geração de números randômicos.\n",
    "        * saída (output): array estratificado com os índices do dados de treino e array estratificado com os índices do dados de teste.\n",
    "        * Exemplo de entrada: split_stratified_train_test(y, 0.7, 0)\n",
    "          * Saída - 2 arrays com índices dos dados de treino (idx_train) e de teste (idx_test), respectivamente."
   ]
  },
  {
   "cell_type": "code",
   "execution_count": null,
   "metadata": {},
   "outputs": [],
   "source": []
  },
  {
   "cell_type": "code",
   "execution_count": null,
   "metadata": {},
   "outputs": [],
   "source": []
  },
  {
   "cell_type": "markdown",
   "metadata": {},
   "source": [
    "**3. Avalie usando suas implementações das métricas: accuracy, precision, recall e f1_measure.**\n",
    "* Para facilitar seu trabalho, você pode usar a função do sklearn para obter a matriz de confusão."
   ]
  },
  {
   "cell_type": "code",
   "execution_count": null,
   "metadata": {},
   "outputs": [],
   "source": []
  },
  {
   "cell_type": "code",
   "execution_count": null,
   "metadata": {},
   "outputs": [],
   "source": []
  },
  {
   "cell_type": "markdown",
   "metadata": {},
   "source": [
    "**4. Compare os resultados de suas métricas com os resultados das implementações do scikit learn para as mesmas métricas.**"
   ]
  },
  {
   "cell_type": "code",
   "execution_count": null,
   "metadata": {},
   "outputs": [],
   "source": []
  },
  {
   "cell_type": "code",
   "execution_count": null,
   "metadata": {},
   "outputs": [],
   "source": []
  },
  {
   "cell_type": "markdown",
   "metadata": {},
   "source": [
    "**5. Calcule a métrica AUC (Area Under Curve) usando a implementação do sklearn.**\n",
    "* Dicas: \n",
    "  * use a função roc_auc_score(y_true, y_score).\n",
    "  * preste atenção que y_score é diferente de y_pred.\n",
    "  * Exemplo completo: http://benalexkeen.com/scoring-classifier-models-using-scikit-learn/\n",
    "  * seria algo assim, usando o modelo de LogisticRegression do próprio sklearn (perceba que a classe possui o método predict_proba):\n",
    "...\n",
    "    * y_score = model.predict_proba(X_test)[:,1]\n",
    "    * fpr, tpr, thresholds = roc_curve(y_test, y_score)\n",
    "    * ..."
   ]
  },
  {
   "cell_type": "code",
   "execution_count": null,
   "metadata": {},
   "outputs": [],
   "source": []
  },
  {
   "cell_type": "code",
   "execution_count": null,
   "metadata": {},
   "outputs": [],
   "source": []
  },
  {
   "cell_type": "markdown",
   "metadata": {},
   "source": [
    "**6. Desenhe a curva ROC usando a implementação do sklearn.**\n",
    "* Dicas:\n",
    "   * Exemplo completo 1: http://scikit-learn.org/stable/auto_examples/model_selection/plot_roc.html\n",
    "   * Exemplo completo 2: http://benalexkeen.com/scoring-classifier-models-using-scikit-learn/\n"
   ]
  },
  {
   "cell_type": "markdown",
   "metadata": {},
   "source": []
  },
  {
   "cell_type": "markdown",
   "metadata": {},
   "source": []
  }
 ],
 "metadata": {
  "kernelspec": {
   "display_name": "Python 3",
   "language": "python",
   "name": "python3"
  },
  "language_info": {
   "codemirror_mode": {
    "name": "ipython",
    "version": 3
   },
   "file_extension": ".py",
   "mimetype": "text/x-python",
   "name": "python",
   "nbconvert_exporter": "python",
   "pygments_lexer": "ipython3",
   "version": "3.6.4"
  }
 },
 "nbformat": 4,
 "nbformat_minor": 2
}
