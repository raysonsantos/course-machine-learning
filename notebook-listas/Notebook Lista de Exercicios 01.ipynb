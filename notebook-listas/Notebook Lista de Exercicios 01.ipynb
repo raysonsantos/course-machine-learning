{
 "cells": [
  {
   "cell_type": "markdown",
   "metadata": {},
   "source": [
    "# Notebook Lista de Exercicios 01"
   ]
  },
  {
   "cell_type": "markdown",
   "metadata": {},
   "source": [
    "**1. Carregue os dados do dataset de sobre diabetes a partir do Scikit Learn [(veja este Jupyter Notebook)](https://github.com/regispires/aulas-machine-learning/blob/master/02-Carregamento%20do%20dataset%20sobre%20diabetes.ipynb).**"
   ]
  },
  {
   "cell_type": "code",
   "execution_count": null,
   "metadata": {},
   "outputs": [],
   "source": []
  },
  {
   "cell_type": "code",
   "execution_count": null,
   "metadata": {},
   "outputs": [],
   "source": []
  },
  {
   "cell_type": "markdown",
   "metadata": {},
   "source": [
    "**2. Mostre em gráficos a correlação entre cada feature (Xi) e o label (y).**\n",
    "* a) Qual feature melhor se ajusta a uma função linear? Por que?\n",
    "\n",
    "* b) Qual feature pior se ajusta a uma função linear? Por que?\n",
    "\n",
    "* Dicas: \n",
    "    * Gerar para cada feature (atributo) do dataset, um gráfico de dispersão (scatter plot) entre aquela feature (eixo x) e o label (eixo y). E aí observar que gráficos vão se parecer mais (2a) ou menos (2b) com uma linha.\n",
    "    * Usar manipulação de listas com [Python](https://github.com/ciencia-de-dados-pratica/praticas/blob/master/minicurso-data-science/02-python_basico.ipynb) e/ou [Numpy](https://github.com/ciencia-de-dados-pratica/praticas/blob/master/05-introducao-numpy.ipynb).\n",
    "    * Usar o [Matplotlib](https://github.com/ciencia-de-dados-pratica/praticas/blob/master/praticas/tutorial-matplotlib.ipynb) para gerar gráficos de dispersão (scatter plots)."
   ]
  },
  {
   "cell_type": "code",
   "execution_count": null,
   "metadata": {},
   "outputs": [],
   "source": []
  },
  {
   "cell_type": "code",
   "execution_count": null,
   "metadata": {},
   "outputs": [],
   "source": []
  },
  {
   "cell_type": "markdown",
   "metadata": {},
   "source": [
    "**3. Mostre em números a correlação entre cada feature (Xi) e o label (y).**\n",
    "* Dicas: \n",
    "  * Nessa questão queremos o [coeficiente de correlação](https://pt.wikipedia.org/wiki/Coeficiente_de_correlação_de_Pearson) entre cada feature (atributo) e o label.\n",
    "  * As planilhas (Excel, Google Sheets, etc.) e bibliotecas [Python](https://docs.scipy.org/doc/numpy/reference/generated/numpy.corrcoef.html) como [Numpy]() e Pandas já possuem esse cálculo pronto."
   ]
  },
  {
   "cell_type": "code",
   "execution_count": null,
   "metadata": {},
   "outputs": [],
   "source": []
  },
  {
   "cell_type": "code",
   "execution_count": null,
   "metadata": {},
   "outputs": [],
   "source": []
  },
  {
   "cell_type": "markdown",
   "metadata": {},
   "source": [
    "**4. Crie um modelo linear usando o Scikit Learn para representar os dados (todo o dataset).**"
   ]
  },
  {
   "cell_type": "code",
   "execution_count": null,
   "metadata": {},
   "outputs": [],
   "source": []
  },
  {
   "cell_type": "code",
   "execution_count": null,
   "metadata": {},
   "outputs": [],
   "source": []
  },
  {
   "cell_type": "markdown",
   "metadata": {},
   "source": [
    "**5. Exiba a fórmula da função linear com todos os seus coeficientes.**"
   ]
  },
  {
   "cell_type": "code",
   "execution_count": null,
   "metadata": {},
   "outputs": [],
   "source": []
  },
  {
   "cell_type": "code",
   "execution_count": null,
   "metadata": {},
   "outputs": [],
   "source": []
  },
  {
   "cell_type": "markdown",
   "metadata": {},
   "source": [
    "**6. Faça predição para todos os dados de entrada (X) usando o modelo criado, ou seja, descubra y_pred.**\n"
   ]
  },
  {
   "cell_type": "code",
   "execution_count": null,
   "metadata": {},
   "outputs": [],
   "source": []
  },
  {
   "cell_type": "code",
   "execution_count": null,
   "metadata": {},
   "outputs": [],
   "source": []
  },
  {
   "cell_type": "markdown",
   "metadata": {},
   "source": [
    "**7. Avalie o modelo através da métrica MSE. Calcule usando o Scikit Learn e também usando somente o Python (\"manualmente\").**"
   ]
  },
  {
   "cell_type": "code",
   "execution_count": null,
   "metadata": {},
   "outputs": [],
   "source": []
  },
  {
   "cell_type": "markdown",
   "metadata": {},
   "source": [
    "**8. Crie um novo modelo de regressão linear para a feature que melhor se ajusta a uma função linear (ver questão 2a).**\n",
    "  * Calcule e exiba os coeficientes da função linear de forma manual (usando o Python, mas sem usar o Scikit Learn).\n",
    "  * Calcule e exiba também os coeficientes da função linear de forma automatizada (usando o Scikit Learn).\n",
    "  * Mostre um gráfico de dispersão com os pontos da feature e a linha que representa o modelo.\n",
    "  * Calcule o MSE."
   ]
  },
  {
   "cell_type": "code",
   "execution_count": null,
   "metadata": {},
   "outputs": [],
   "source": []
  },
  {
   "cell_type": "code",
   "execution_count": null,
   "metadata": {},
   "outputs": [],
   "source": []
  },
  {
   "cell_type": "markdown",
   "metadata": {},
   "source": [
    "**9. Crie um novo modelo de regressão linear para a feature que pior se ajusta a uma função linear (ver questão 2b).**\n",
    "  * Calcule e exiba os coeficientes da função linear.\n",
    "  * Mostre um gráfico de dispersão com os pontos da feature e a linha que representa o modelo.\n",
    "  * Calcule o MSE."
   ]
  },
  {
   "cell_type": "code",
   "execution_count": null,
   "metadata": {},
   "outputs": [],
   "source": []
  },
  {
   "cell_type": "code",
   "execution_count": null,
   "metadata": {},
   "outputs": [],
   "source": []
  }
 ],
 "metadata": {
  "kernelspec": {
   "display_name": "Python 3",
   "language": "python",
   "name": "python3"
  },
  "language_info": {
   "codemirror_mode": {
    "name": "ipython",
    "version": 3
   },
   "file_extension": ".py",
   "mimetype": "text/x-python",
   "name": "python",
   "nbconvert_exporter": "python",
   "pygments_lexer": "ipython3",
   "version": "3.6.4"
  }
 },
 "nbformat": 4,
 "nbformat_minor": 2
}
