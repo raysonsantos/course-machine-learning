{
 "cells": [
  {
   "cell_type": "markdown",
   "metadata": {},
   "source": [
    "# Notebook Lista de Exercícios 03 \n",
    "* A partir de agora vamos implementar nossas bibliotecas de machine learning na forma mais simples possível usando no Python e o NumPy.\n"
   ]
  },
  {
   "cell_type": "markdown",
   "metadata": {},
   "source": [
    "## #** 1. Crie os seguintes arquivos com extensão .py e implemente os métodos definidos para cada um deles:**\n"
   ]
  },
  {
   "cell_type": "markdown",
   "metadata": {},
   "source": [
    "* ### <span style=\"color: blue; font-weight: bold\">stats.py</span>"
   ]
  },
  {
   "cell_type": "markdown",
   "metadata": {},
   "source": [
    "> * **mean(x)**\n",
    "  * calcula a média (mean) - não use a função mean do numpy. Implemente a sua.\n",
    "  * + x é um array do numpy.\n",
    "  ![Fórmula Média](mean_x.svg)"
   ]
  },
  {
   "cell_type": "code",
   "execution_count": null,
   "metadata": {},
   "outputs": [],
   "source": []
  },
  {
   "cell_type": "code",
   "execution_count": null,
   "metadata": {},
   "outputs": [],
   "source": []
  },
  {
   "cell_type": "markdown",
   "metadata": {},
   "source": [
    "> * **stdev(x)**\n",
    "   * calcula o desvio padrão (standard deviation) - não use a função std do numpy. Implemente a sua.\n",
    "   * x é um array do numpy. \n",
    "   ![Fórmula Desvio Padrão](stdev.svg)\n"
   ]
  },
  {
   "cell_type": "code",
   "execution_count": null,
   "metadata": {},
   "outputs": [],
   "source": []
  },
  {
   "cell_type": "code",
   "execution_count": null,
   "metadata": {},
   "outputs": [],
   "source": []
  },
  {
   "cell_type": "markdown",
   "metadata": {},
   "source": [
    "> * **var(y)**\n",
    "   * calcula a variância (variance) - não use a função var do numpy. Implemente a sua.\n",
    "   * y é um array do numpy.\n",
    "   ![Fórmula Variância](var.svg)"
   ]
  },
  {
   "cell_type": "code",
   "execution_count": null,
   "metadata": {},
   "outputs": [],
   "source": []
  },
  {
   "cell_type": "code",
   "execution_count": null,
   "metadata": {},
   "outputs": [],
   "source": []
  },
  {
   "cell_type": "markdown",
   "metadata": {},
   "source": [
    "* <span style=\"color: blue; font-weight: bold\">metrics.py</span>"
   ]
  },
  {
   "cell_type": "markdown",
   "metadata": {},
   "source": [
    "> * **mse(y_true, y_pred)**\n",
    "   * calcula o MSE - mean squared error - não use a função mean_squared_error do numpy. Implemente a sua.\n",
    "   ![Fórmula MSE](mse.png)"
   ]
  },
  {
   "cell_type": "code",
   "execution_count": null,
   "metadata": {},
   "outputs": [],
   "source": []
  },
  {
   "cell_type": "code",
   "execution_count": null,
   "metadata": {},
   "outputs": [],
   "source": []
  },
  {
   "cell_type": "markdown",
   "metadata": {},
   "source": [
    "> * **rmse(y_true, y_pred)**\n",
    "   * calcula o RMSE - root mean squared error = raiz quadrada do mse.\n"
   ]
  },
  {
   "cell_type": "code",
   "execution_count": null,
   "metadata": {},
   "outputs": [],
   "source": []
  },
  {
   "cell_type": "code",
   "execution_count": null,
   "metadata": {},
   "outputs": [],
   "source": []
  },
  {
   "cell_type": "markdown",
   "metadata": {},
   "source": [
    "> * **mae(y_true, y_pred)**\n",
    "   * calcula o MAE - mean absolute error. - não use a função mean_ absolute_error do numpy. Implemente a sua.\n",
    "   ![Fórmula MAE](mae.png)"
   ]
  },
  {
   "cell_type": "code",
   "execution_count": null,
   "metadata": {},
   "outputs": [],
   "source": []
  },
  {
   "cell_type": "code",
   "execution_count": null,
   "metadata": {},
   "outputs": [],
   "source": []
  },
  {
   "cell_type": "markdown",
   "metadata": {},
   "source": [
    "* <span style=\"color: blue; font-weight: bold\">linear_model.py</span>\n",
    "> * Classe **SimpleLinearRegression**\n",
    "    * Implemente a solução mais simples possível.\n",
    "    * atributos da classe: **b0, b1**\n",
    "    * métodos da classe: \n",
    "      * **fit(X, y)**\n",
    "      * **predict(X)**"
   ]
  },
  {
   "cell_type": "code",
   "execution_count": null,
   "metadata": {},
   "outputs": [],
   "source": []
  },
  {
   "cell_type": "code",
   "execution_count": null,
   "metadata": {},
   "outputs": [],
   "source": []
  },
  {
   "cell_type": "markdown",
   "metadata": {},
   "source": [
    "* <span style=\"color: blue; font-weight: bold\">resample.py</span>\n",
    "> * **split_train_test(n_elem, perc_train, seed)**\n",
    "   * n_elem - número total de elementos (treino + teste).\n",
    "   * perc_train - percentual dos dados usados para treino.\n",
    "   * seed - semente para geração de números randômicos.\n",
    "   * saída (output): array com os índices do dados de treino e array com os índices do dados de teste.\n",
    "   * Exemplo de entrada: split_train_test(10, 0.7, 0)\n",
    "     * Saída - 2 arrays com índices dos dados de treino (**idx_train**) e de teste (**idx_test**), respectivamente: [2, 8, 4, 9, 1, 6, 7], [3, 0, 5]\n",
    "   * Dicas:\n",
    "     * Usar range(n_elem) para criar um array dos índices ordenados.\n",
    "     * Usar np.random.shuffle(a) para randomizar a ordem dos elementos do array:\n",
    "     * **a = [ i for i in range(10)]**\n",
    "     * **np.random.seed(0)**\n",
    "     * **np.random.shuffle(a)**\n"
   ]
  },
  {
   "cell_type": "code",
   "execution_count": null,
   "metadata": {},
   "outputs": [],
   "source": []
  },
  {
   "cell_type": "code",
   "execution_count": null,
   "metadata": {},
   "outputs": [],
   "source": []
  },
  {
   "cell_type": "markdown",
   "metadata": {},
   "source": [
    "**2. Crie um Jupyter Notebook e use as bibliotecas criadas na Questão 1 para fazer o que se pede:**\n"
   ]
  },
  {
   "cell_type": "markdown",
   "metadata": {},
   "source": [
    "* a) Represente os dados a seguir:\n",
    "![HPI](historical-housing-data.png)"
   ]
  },
  {
   "cell_type": "code",
   "execution_count": null,
   "metadata": {},
   "outputs": [],
   "source": []
  },
  {
   "cell_type": "code",
   "execution_count": null,
   "metadata": {},
   "outputs": [],
   "source": []
  },
  {
   "cell_type": "markdown",
   "metadata": {},
   "source": [
    "* b) Calcule média, desvio padrão e variância de X.\n"
   ]
  },
  {
   "cell_type": "code",
   "execution_count": null,
   "metadata": {},
   "outputs": [],
   "source": []
  },
  {
   "cell_type": "code",
   "execution_count": null,
   "metadata": {},
   "outputs": [],
   "source": []
  },
  {
   "cell_type": "markdown",
   "metadata": {},
   "source": [
    "* c) Divida os dados X, y para 70% de treino e 30% de teste. O resultado deve estar nas variáveis: X_train, y_train, X_test, y_test.\n",
    "  * Dicas\n",
    "    * **X_train = X[idx_train]**, onde idx_train é um array com os índices dos dados de treino.\n",
    "    * **y_train = y[idx_train]**\n",
    "    * **X_test = X[idx_test]**\n",
    "    * **y_test = y[idx_test]**"
   ]
  },
  {
   "cell_type": "code",
   "execution_count": null,
   "metadata": {},
   "outputs": [],
   "source": []
  },
  {
   "cell_type": "code",
   "execution_count": null,
   "metadata": {},
   "outputs": [],
   "source": []
  },
  {
   "cell_type": "markdown",
   "metadata": {},
   "source": [
    "* d) Crie um modelo de **(1) SimpleLinearRegression** (sua implementação) e outro modelo usando **(2) LinearRegression** do Scikit Learn.\n"
   ]
  },
  {
   "cell_type": "code",
   "execution_count": null,
   "metadata": {},
   "outputs": [],
   "source": []
  },
  {
   "cell_type": "code",
   "execution_count": null,
   "metadata": {},
   "outputs": [],
   "source": []
  },
  {
   "cell_type": "markdown",
   "metadata": {},
   "source": [
    "* e) Treine os modelos com os dados de treino (X_train, y_train)."
   ]
  },
  {
   "cell_type": "code",
   "execution_count": null,
   "metadata": {},
   "outputs": [],
   "source": []
  },
  {
   "cell_type": "code",
   "execution_count": null,
   "metadata": {},
   "outputs": [],
   "source": []
  },
  {
   "cell_type": "markdown",
   "metadata": {},
   "source": [
    "* f) Faça as predições para os modelos usando os dados de teste (X_test)."
   ]
  },
  {
   "cell_type": "code",
   "execution_count": null,
   "metadata": {},
   "outputs": [],
   "source": []
  },
  {
   "cell_type": "code",
   "execution_count": null,
   "metadata": {},
   "outputs": [],
   "source": []
  },
  {
   "cell_type": "markdown",
   "metadata": {},
   "source": [
    "* g) Calcule as métricas MSE, RMSE e MAE para avaliar os modelos criados comparando os rótulos dos dados de teste (y_test) com os dados preditos (y_pred).\n"
   ]
  },
  {
   "cell_type": "code",
   "execution_count": null,
   "metadata": {},
   "outputs": [],
   "source": []
  },
  {
   "cell_type": "code",
   "execution_count": null,
   "metadata": {},
   "outputs": [],
   "source": []
  },
  {
   "cell_type": "code",
   "execution_count": null,
   "metadata": {},
   "outputs": [],
   "source": []
  },
  {
   "cell_type": "code",
   "execution_count": null,
   "metadata": {},
   "outputs": [],
   "source": []
  },
  {
   "cell_type": "code",
   "execution_count": null,
   "metadata": {},
   "outputs": [],
   "source": []
  },
  {
   "cell_type": "code",
   "execution_count": null,
   "metadata": {},
   "outputs": [],
   "source": []
  }
 ],
 "metadata": {
  "kernelspec": {
   "display_name": "Python 3",
   "language": "python",
   "name": "python3"
  },
  "language_info": {
   "codemirror_mode": {
    "name": "ipython",
    "version": 3
   },
   "file_extension": ".py",
   "mimetype": "text/x-python",
   "name": "python",
   "nbconvert_exporter": "python",
   "pygments_lexer": "ipython3",
   "version": "3.6.4"
  }
 },
 "nbformat": 4,
 "nbformat_minor": 2
}
