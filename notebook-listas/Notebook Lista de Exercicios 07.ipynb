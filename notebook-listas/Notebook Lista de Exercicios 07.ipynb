{
 "cells": [
  {
   "cell_type": "markdown",
   "metadata": {},
   "source": [
    "# Notebook Lista de Exercicios 07"
   ]
  },
  {
   "cell_type": "markdown",
   "metadata": {},
   "source": [
    "### Imports"
   ]
  },
  {
   "cell_type": "markdown",
   "metadata": {},
   "source": [
    "* ** Use K-Fold Cross Validation com k = 5 para resolver os seguintes problemas de machine learning: **\n",
    "  * Regressão \n",
    "    * Dataset: boston house-prices dataset\n",
    "    * Aplicar Standardization nas features.\n",
    "    * Comparar os resultados dos seguintes algoritmos: Gradient Descent, Linear Regression, kNN, Naive Bayes, SVM\n",
    "    * Usar as seguintes métricas: RMSE, MAE\n",
    "    * Escolher a melhor técnica e criar um modelo final usando todo o dataset para treinar o modelo."
   ]
  },
  {
   "cell_type": "code",
   "execution_count": null,
   "metadata": {},
   "outputs": [],
   "source": []
  },
  {
   "cell_type": "code",
   "execution_count": null,
   "metadata": {},
   "outputs": [],
   "source": []
  },
  {
   "cell_type": "markdown",
   "metadata": {},
   "source": [
    "* **Use K-Fold Cross Validation com k = 5 para resolver os seguintes problemas de machine learning:**\n",
    "  * Classificação \n",
    "    * Dataset: breast cancer wisconsin dataset\n",
    "    * Aplicar Normalization nas features.\n",
    "    * Comparar os resultados dos seguintes algoritmos: Logistic Regression, kNN, Naive Bayes, SVM\n",
    "    * Mostrar a matriz de confusão\n",
    "    * Usar as seguintes métricas: Accuracy, Precision, Recall, F1-Measure, AOC\n",
    "    * Plotar curva ROC dos diferentes algoritmos.\n",
    "    * Escolher a melhor técnica e criar um modelo final usando todo o dataset para treinar o modelo."
   ]
  },
  {
   "cell_type": "code",
   "execution_count": null,
   "metadata": {},
   "outputs": [],
   "source": []
  },
  {
   "cell_type": "code",
   "execution_count": null,
   "metadata": {},
   "outputs": [],
   "source": []
  },
  {
   "cell_type": "markdown",
   "metadata": {},
   "source": [
    "* **Você pode usar as implementações do Scikit Learn.**"
   ]
  },
  {
   "cell_type": "code",
   "execution_count": null,
   "metadata": {},
   "outputs": [],
   "source": []
  },
  {
   "cell_type": "code",
   "execution_count": null,
   "metadata": {},
   "outputs": [],
   "source": []
  },
  {
   "cell_type": "markdown",
   "metadata": {},
   "source": [
    "* **Preencha seus resultados de RMSE (para o problema de regressão) e Accuracy (para o problema de classificação) na seguinte planilha online.**\n",
    "  * Nossa primeira competiçãozinha interna!!!\n",
    "  * Tentem melhorar os resultados.\n"
   ]
  },
  {
   "cell_type": "markdown",
   "metadata": {},
   "source": []
  },
  {
   "cell_type": "markdown",
   "metadata": {},
   "source": []
  }
 ],
 "metadata": {
  "kernelspec": {
   "display_name": "Python 3",
   "language": "python",
   "name": "python3"
  },
  "language_info": {
   "codemirror_mode": {
    "name": "ipython",
    "version": 3
   },
   "file_extension": ".py",
   "mimetype": "text/x-python",
   "name": "python",
   "nbconvert_exporter": "python",
   "pygments_lexer": "ipython3",
   "version": "3.6.4"
  }
 },
 "nbformat": 4,
 "nbformat_minor": 2
}
